{
 "cells": [
  {
   "metadata": {},
   "cell_type": "markdown",
   "source": [
    "## Variability Factors\n",
    "\n",
    "### op_creation\n",
    "* np.random.rand()\n",
    "* random.random()\n",
    "* random.uniform(0, 1)\n",
    "* random.uniform(0, 10)\n",
    "* random.uniform(0, 100)\n",
    "\n",
    "### op_compare\n",
    "* result1 - result2 < 1e-15\n",
    "* result1 - result2 < 1e-18\n",
    "* result1 == result2"
   ],
   "id": "72a692c3cce3e7b3"
  },
  {
   "metadata": {},
   "cell_type": "markdown",
   "source": "## Result Analysis",
   "id": "ffb5d53072722ec2"
  },
  {
   "metadata": {
    "collapsed": true,
    "ExecuteTime": {
     "end_time": "2024-10-21T10:05:46.642941Z",
     "start_time": "2024-10-21T10:05:46.628052Z"
    }
   },
   "cell_type": "code",
   "source": [
    "# Convert results.csv to compare op_creation and op_compare \n",
    "\n",
    "import pandas as pd\n",
    "\n",
    "df = pd.read_csv('results.csv', sep=\";\")\n",
    "new_df = df.pivot(index='op_creation', columns='op_compare', values='result')\n",
    "\n",
    "new_df"
   ],
   "id": "initial_id",
   "outputs": [
    {
     "data": {
      "text/plain": [
       "op_compare             result1 - result2 < 1e-14 result1 - result2 < 1e-15  \\\n",
       "op_creation                                                                  \n",
       "np.random.rand()                         100.00%                   100.00%   \n",
       "random.random()                          100.00%                   100.00%   \n",
       "random.uniform(0, 1)                     100.00%                   100.00%   \n",
       "random.uniform(0, 10)                    100.00%                    89.53%   \n",
       "random.uniform(0, 100)                    88.06%                    87.46%   \n",
       "\n",
       "op_compare             result1 - result2 < 1e-16 result1 - result2 < 1e-18  \\\n",
       "op_creation                                                                  \n",
       "np.random.rand()                          91.43%                    91.39%   \n",
       "random.random()                           91.44%                    91.37%   \n",
       "random.uniform(0, 1)                      91.36%                    91.38%   \n",
       "random.uniform(0, 10)                     88.62%                    88.68%   \n",
       "random.uniform(0, 100)                    87.48%                    87.47%   \n",
       "\n",
       "op_compare             result1 == result2  \n",
       "op_creation                                \n",
       "np.random.rand()                   82.88%  \n",
       "random.random()                    82.82%  \n",
       "random.uniform(0, 1)               82.79%  \n",
       "random.uniform(0, 10)              77.28%  \n",
       "random.uniform(0, 100)             75.01%  "
      ],
      "text/html": [
       "<div>\n",
       "<style scoped>\n",
       "    .dataframe tbody tr th:only-of-type {\n",
       "        vertical-align: middle;\n",
       "    }\n",
       "\n",
       "    .dataframe tbody tr th {\n",
       "        vertical-align: top;\n",
       "    }\n",
       "\n",
       "    .dataframe thead th {\n",
       "        text-align: right;\n",
       "    }\n",
       "</style>\n",
       "<table border=\"1\" class=\"dataframe\">\n",
       "  <thead>\n",
       "    <tr style=\"text-align: right;\">\n",
       "      <th>op_compare</th>\n",
       "      <th>result1 - result2 &lt; 1e-14</th>\n",
       "      <th>result1 - result2 &lt; 1e-15</th>\n",
       "      <th>result1 - result2 &lt; 1e-16</th>\n",
       "      <th>result1 - result2 &lt; 1e-18</th>\n",
       "      <th>result1 == result2</th>\n",
       "    </tr>\n",
       "    <tr>\n",
       "      <th>op_creation</th>\n",
       "      <th></th>\n",
       "      <th></th>\n",
       "      <th></th>\n",
       "      <th></th>\n",
       "      <th></th>\n",
       "    </tr>\n",
       "  </thead>\n",
       "  <tbody>\n",
       "    <tr>\n",
       "      <th>np.random.rand()</th>\n",
       "      <td>100.00%</td>\n",
       "      <td>100.00%</td>\n",
       "      <td>91.43%</td>\n",
       "      <td>91.39%</td>\n",
       "      <td>82.88%</td>\n",
       "    </tr>\n",
       "    <tr>\n",
       "      <th>random.random()</th>\n",
       "      <td>100.00%</td>\n",
       "      <td>100.00%</td>\n",
       "      <td>91.44%</td>\n",
       "      <td>91.37%</td>\n",
       "      <td>82.82%</td>\n",
       "    </tr>\n",
       "    <tr>\n",
       "      <th>random.uniform(0, 1)</th>\n",
       "      <td>100.00%</td>\n",
       "      <td>100.00%</td>\n",
       "      <td>91.36%</td>\n",
       "      <td>91.38%</td>\n",
       "      <td>82.79%</td>\n",
       "    </tr>\n",
       "    <tr>\n",
       "      <th>random.uniform(0, 10)</th>\n",
       "      <td>100.00%</td>\n",
       "      <td>89.53%</td>\n",
       "      <td>88.62%</td>\n",
       "      <td>88.68%</td>\n",
       "      <td>77.28%</td>\n",
       "    </tr>\n",
       "    <tr>\n",
       "      <th>random.uniform(0, 100)</th>\n",
       "      <td>88.06%</td>\n",
       "      <td>87.46%</td>\n",
       "      <td>87.48%</td>\n",
       "      <td>87.47%</td>\n",
       "      <td>75.01%</td>\n",
       "    </tr>\n",
       "  </tbody>\n",
       "</table>\n",
       "</div>"
      ]
     },
     "execution_count": 11,
     "metadata": {},
     "output_type": "execute_result"
    }
   ],
   "execution_count": 11
  },
  {
   "metadata": {},
   "cell_type": "markdown",
   "source": [
    "From the table above, we can see that, in general, `op_compare` has a more important impact on the result than `op_creation`.\n",
    "\n",
    "Among all `op_creation` options, (`np.random.rand()`, `random.random()`, `random.uniform(0, 1)`) and (`random.uniform(0, 10)`, `random.uniform(0, 100)`) have negligible differences inside each group, while the difference between the groups is more visible.\n",
    "\n",
    "For `op_compare`, choosing a tolerance of $10^{-14}$ instead of $10^{-15}$ does not significantly improve the results (with the first group of `op_creation` options), and choosing a tolerance of under $10^{-16}$ (0 included) strongly worsen the results.  "
   ],
   "id": "b5feb42445b89224"
  },
  {
   "metadata": {},
   "cell_type": "markdown",
   "source": [
    "## Recommendation\n",
    "For `op_creation`, the following options: `np.random.rand()`, `random.random()`, and `random.uniform(0, 1)`, returns results with insignificant differences. We therefore recommend these three options to be used instead of the other two options.\n",
    "\n",
    "For `op_compare`, `result1 - result2 < 1e-15` provides the best result overall."
   ],
   "id": "7db7df1ef335f070"
  },
  {
   "metadata": {},
   "cell_type": "code",
   "outputs": [],
   "execution_count": null,
   "source": "",
   "id": "bbb68b53286d621a"
  }
 ],
 "metadata": {
  "kernelspec": {
   "display_name": "Python 3",
   "language": "python",
   "name": "python3"
  },
  "language_info": {
   "codemirror_mode": {
    "name": "ipython",
    "version": 2
   },
   "file_extension": ".py",
   "mimetype": "text/x-python",
   "name": "python",
   "nbconvert_exporter": "python",
   "pygments_lexer": "ipython2",
   "version": "2.7.6"
  }
 },
 "nbformat": 4,
 "nbformat_minor": 5
}
